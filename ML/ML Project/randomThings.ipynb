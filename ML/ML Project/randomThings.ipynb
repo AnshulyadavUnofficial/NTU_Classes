{
 "cells": [
  {
   "cell_type": "code",
   "execution_count": 1,
   "id": "81f67687",
   "metadata": {},
   "outputs": [],
   "source": [
    "import pandas as pd\n"
   ]
  },
  {
   "cell_type": "code",
   "execution_count": null,
   "id": "af7ef56a",
   "metadata": {},
   "outputs": [],
   "source": [
    "lbgm_preditions = "
   ]
  }
 ],
 "metadata": {
  "kernelspec": {
   "display_name": ".venv",
   "language": "python",
   "name": "python3"
  },
  "language_info": {
   "codemirror_mode": {
    "name": "ipython",
    "version": 3
   },
   "file_extension": ".py",
   "mimetype": "text/x-python",
   "name": "python",
   "nbconvert_exporter": "python",
   "pygments_lexer": "ipython3",
   "version": "3.10.18"
  }
 },
 "nbformat": 4,
 "nbformat_minor": 5
}
