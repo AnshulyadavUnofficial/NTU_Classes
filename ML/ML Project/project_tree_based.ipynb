{
 "cells": [
  {
   "cell_type": "code",
   "execution_count": 7,
   "id": "5627dfdc",
   "metadata": {},
   "outputs": [],
   "source": [
    "import numpy as np\n",
    "import pandas as pd\n",
    "from sklearn.model_selection import train_test_split\n",
    "from sklearn.metrics import mean_absolute_error, mean_squared_error, r2_score\n",
    "import xgboost as xgb  \n",
    "import matplotlib.pyplot as plt"
   ]
  },
  {
   "cell_type": "code",
   "execution_count": 8,
   "id": "947d93a9",
   "metadata": {},
   "outputs": [
    {
     "name": "stdout",
     "output_type": "stream",
     "text": [
      "4.065353037766831\n",
      "0.0\n"
     ]
    }
   ],
   "source": [
    "\"\"\" Read Data and create the train, validation and test sets \"\"\"\n",
    "\n",
    "\n",
    "train_data = pd.read_csv(\"regression-tabular-california-housing/train.csv\", header= 0, index_col=0)\n",
    "train_data[\"RegVal\"] = train_data[\"MedHouseVal\"]\n",
    "train_data = train_data.drop(columns = [\"MedHouseVal\"])\n",
    "\n",
    "test_data = pd.read_csv(\"regression-tabular-california-housing/test.csv\", header= 0, index_col= 0)\n",
    "\n",
    "X = train_data.drop(columns=[\"RegVal\"])\n",
    "y = train_data[\"RegVal\"]\n",
    "\n",
    "X_train, X_val, y_train, y_val = train_test_split(X, y, test_size=0.2, random_state=42)\n",
    "\n",
    "# creating dmatrix for train, test and validation test\n",
    "dtrain = xgb.DMatrix(X_train, label=y_train)\n",
    "dval = xgb.DMatrix(X_val, label=y_val)\n",
    "dtest= xgb.DMatrix(test_data)\n",
    "\n",
    "\n",
    "CAP = float(train_data[\"RegVal\"].max())\n",
    "FLOOR = float(train_data[\"RegVal\"].min())\n",
    "\n",
    "# your hyperparameters (set as you like)\n",
    "lambda_cap = y.count()/y[y==CAP].count() * 0.20\n",
    "lambda_floor = y.count()/y[y==FLOOR].count() * 0\n",
    "print(lambda_cap)\n",
    "print(lambda_floor)"
   ]
  },
  {
   "cell_type": "code",
   "execution_count": 9,
   "id": "eddec0db",
   "metadata": {},
   "outputs": [],
   "source": [
    "def capped_mse_obj_exact(preds, dtrain):\n",
    "    \"\"\"\n",
    "    Exact gradient and hessian derived from:\n",
    "      L = (y - p)^2 + lambda_cap * I[y==CAP] * (CAP - p)^2\n",
    "                       + lambda_floor * I[y==FLOOR] * (FLOOR - p)^2\n",
    "    preds: 1d array of predictions (y_hat)\n",
    "    returns: grad, hess (1d arrays)\n",
    "    \"\"\"\n",
    "    y = dtrain.get_label()\n",
    "    p = preds.flatten().astype(np.float64)\n",
    "\n",
    "    # Base MSE grad/hess\n",
    "    grad = 2.0 * (p - y)                 # vector\n",
    "    hess = np.full_like(p, 2.0, dtype=np.float64)\n",
    "\n",
    "    # boolean masks (use isclose for float safety)\n",
    "    cap_mask = np.isclose(y, CAP)\n",
    "    floor_mask = np.isclose(y, FLOOR)\n",
    "\n",
    "    if np.any(cap_mask):\n",
    "        # add contribution from lambda_cap * (CAP - p)^2\n",
    "        grad[cap_mask] += 2.0 * lambda_cap * (p[cap_mask] - CAP)\n",
    "        hess[cap_mask] += 2.0 * lambda_cap\n",
    "\n",
    "    if np.any(floor_mask):\n",
    "        grad[floor_mask] += 2.0 * lambda_floor * (p[floor_mask] - FLOOR)\n",
    "        hess[floor_mask] += 2.0 * lambda_floor\n",
    "\n",
    "    return grad, hess\n"
   ]
  },
  {
   "cell_type": "code",
   "execution_count": 10,
   "id": "a1b8398e",
   "metadata": {},
   "outputs": [
    {
     "name": "stdout",
     "output_type": "stream",
     "text": [
      "[0]\ttrain-rmse:1.40981\tval-rmse:1.43384\n",
      "LR at step: 0: 0.0005\n",
      "[100]\ttrain-rmse:1.34815\tval-rmse:1.37418\n",
      "[200]\ttrain-rmse:1.29015\tval-rmse:1.31830\n",
      "[300]\ttrain-rmse:1.23547\tval-rmse:1.26582\n",
      "[400]\ttrain-rmse:1.18410\tval-rmse:1.21670\n"
     ]
    },
    {
     "ename": "KeyboardInterrupt",
     "evalue": "",
     "output_type": "error",
     "traceback": [
      "\u001b[0;31m---------------------------------------------------------------------------\u001b[0m",
      "\u001b[0;31mKeyboardInterrupt\u001b[0m                         Traceback (most recent call last)",
      "Input \u001b[0;32mIn [10]\u001b[0m, in \u001b[0;36m<cell line: 47>\u001b[0;34m()\u001b[0m\n\u001b[1;32m     45\u001b[0m total_steps \u001b[38;5;241m=\u001b[39m \u001b[38;5;241m50000\u001b[39m\n\u001b[1;32m     46\u001b[0m lr_schedule \u001b[38;5;241m=\u001b[39m GeometricLRSchedule(\u001b[38;5;241m0.0005\u001b[39m,\u001b[38;5;241m0.00008\u001b[39m,total_steps)\n\u001b[0;32m---> 47\u001b[0m model \u001b[38;5;241m=\u001b[39m \u001b[43mxgb\u001b[49m\u001b[38;5;241;43m.\u001b[39;49m\u001b[43mtrain\u001b[49m\u001b[43m(\u001b[49m\n\u001b[1;32m     48\u001b[0m \u001b[43m    \u001b[49m\u001b[43mparams\u001b[49m\u001b[43m,\u001b[49m\n\u001b[1;32m     49\u001b[0m \u001b[43m    \u001b[49m\u001b[43mdtrain\u001b[49m\u001b[43m,\u001b[49m\n\u001b[1;32m     50\u001b[0m \u001b[43m    \u001b[49m\u001b[43mnum_boost_round\u001b[49m\u001b[38;5;241;43m=\u001b[39;49m\u001b[38;5;241;43m500000\u001b[39;49m\u001b[43m,\u001b[49m\n\u001b[1;32m     51\u001b[0m \u001b[43m    \u001b[49m\u001b[43mobj\u001b[49m\u001b[38;5;241;43m=\u001b[39;49m\u001b[43mcapped_mse_obj_exact\u001b[49m\u001b[43m,\u001b[49m\n\u001b[1;32m     52\u001b[0m \u001b[43m    \u001b[49m\u001b[43mevals\u001b[49m\u001b[38;5;241;43m=\u001b[39;49m\u001b[43m[\u001b[49m\u001b[43m(\u001b[49m\u001b[43mdtrain\u001b[49m\u001b[43m,\u001b[49m\u001b[43m \u001b[49m\u001b[38;5;124;43m\"\u001b[39;49m\u001b[38;5;124;43mtrain\u001b[39;49m\u001b[38;5;124;43m\"\u001b[39;49m\u001b[43m)\u001b[49m\u001b[43m,\u001b[49m\u001b[43m \u001b[49m\u001b[43m(\u001b[49m\u001b[43mdval\u001b[49m\u001b[43m,\u001b[49m\u001b[43m \u001b[49m\u001b[38;5;124;43m\"\u001b[39;49m\u001b[38;5;124;43mval\u001b[39;49m\u001b[38;5;124;43m\"\u001b[39;49m\u001b[43m)\u001b[49m\u001b[43m]\u001b[49m\u001b[43m,\u001b[49m\n\u001b[1;32m     53\u001b[0m \u001b[43m    \u001b[49m\u001b[43mearly_stopping_rounds\u001b[49m\u001b[38;5;241;43m=\u001b[39;49m\u001b[38;5;241;43m500\u001b[39;49m\u001b[43m,\u001b[49m\n\u001b[1;32m     54\u001b[0m \u001b[43m    \u001b[49m\u001b[43mverbose_eval\u001b[49m\u001b[38;5;241;43m=\u001b[39;49m\u001b[38;5;241;43m100\u001b[39;49m\u001b[43m,\u001b[49m\n\u001b[1;32m     55\u001b[0m \u001b[43m    \u001b[49m\u001b[43mcallbacks\u001b[49m\u001b[38;5;241;43m=\u001b[39;49m\u001b[43m[\u001b[49m\u001b[43mxgb\u001b[49m\u001b[38;5;241;43m.\u001b[39;49m\u001b[43mcallback\u001b[49m\u001b[38;5;241;43m.\u001b[39;49m\u001b[43mLearningRateScheduler\u001b[49m\u001b[43m(\u001b[49m\u001b[43mlr_schedule\u001b[49m\u001b[43m)\u001b[49m\u001b[43m]\u001b[49m\n\u001b[1;32m     56\u001b[0m \n\u001b[1;32m     57\u001b[0m \u001b[43m)\u001b[49m\n\u001b[1;32m     59\u001b[0m \u001b[38;5;66;03m# Evaluate the model using regression metrics in validation \u001b[39;00m\n\u001b[1;32m     60\u001b[0m val_pred \u001b[38;5;241m=\u001b[39m model\u001b[38;5;241m.\u001b[39mpredict(dval)\n",
      "File \u001b[0;32m~/Documents/NTU Classes/.venv/lib/python3.10/site-packages/xgboost/core.py:729\u001b[0m, in \u001b[0;36mrequire_keyword_args.<locals>.throw_if.<locals>.inner_f\u001b[0;34m(*args, **kwargs)\u001b[0m\n\u001b[1;32m    727\u001b[0m \u001b[38;5;28;01mfor\u001b[39;00m k, arg \u001b[38;5;129;01min\u001b[39;00m \u001b[38;5;28mzip\u001b[39m(sig\u001b[38;5;241m.\u001b[39mparameters, args):\n\u001b[1;32m    728\u001b[0m     kwargs[k] \u001b[38;5;241m=\u001b[39m arg\n\u001b[0;32m--> 729\u001b[0m \u001b[38;5;28;01mreturn\u001b[39;00m \u001b[43mfunc\u001b[49m\u001b[43m(\u001b[49m\u001b[38;5;241;43m*\u001b[39;49m\u001b[38;5;241;43m*\u001b[39;49m\u001b[43mkwargs\u001b[49m\u001b[43m)\u001b[49m\n",
      "File \u001b[0;32m~/Documents/NTU Classes/.venv/lib/python3.10/site-packages/xgboost/training.py:183\u001b[0m, in \u001b[0;36mtrain\u001b[0;34m(params, dtrain, num_boost_round, evals, obj, maximize, early_stopping_rounds, evals_result, verbose_eval, xgb_model, callbacks, custom_metric)\u001b[0m\n\u001b[1;32m    181\u001b[0m \u001b[38;5;28;01mif\u001b[39;00m cb_container\u001b[38;5;241m.\u001b[39mbefore_iteration(bst, i, dtrain, evals):\n\u001b[1;32m    182\u001b[0m     \u001b[38;5;28;01mbreak\u001b[39;00m\n\u001b[0;32m--> 183\u001b[0m \u001b[43mbst\u001b[49m\u001b[38;5;241;43m.\u001b[39;49m\u001b[43mupdate\u001b[49m\u001b[43m(\u001b[49m\u001b[43mdtrain\u001b[49m\u001b[43m,\u001b[49m\u001b[43m \u001b[49m\u001b[43miteration\u001b[49m\u001b[38;5;241;43m=\u001b[39;49m\u001b[43mi\u001b[49m\u001b[43m,\u001b[49m\u001b[43m \u001b[49m\u001b[43mfobj\u001b[49m\u001b[38;5;241;43m=\u001b[39;49m\u001b[43mobj\u001b[49m\u001b[43m)\u001b[49m\n\u001b[1;32m    184\u001b[0m \u001b[38;5;28;01mif\u001b[39;00m cb_container\u001b[38;5;241m.\u001b[39mafter_iteration(bst, i, dtrain, evals):\n\u001b[1;32m    185\u001b[0m     \u001b[38;5;28;01mbreak\u001b[39;00m\n",
      "File \u001b[0;32m~/Documents/NTU Classes/.venv/lib/python3.10/site-packages/xgboost/core.py:2254\u001b[0m, in \u001b[0;36mBooster.update\u001b[0;34m(self, dtrain, iteration, fobj)\u001b[0m\n\u001b[1;32m   2252\u001b[0m pred \u001b[38;5;241m=\u001b[39m \u001b[38;5;28mself\u001b[39m\u001b[38;5;241m.\u001b[39mpredict(dtrain, output_margin\u001b[38;5;241m=\u001b[39m\u001b[38;5;28;01mTrue\u001b[39;00m, training\u001b[38;5;241m=\u001b[39m\u001b[38;5;28;01mTrue\u001b[39;00m)\n\u001b[1;32m   2253\u001b[0m grad, hess \u001b[38;5;241m=\u001b[39m fobj(pred, dtrain)\n\u001b[0;32m-> 2254\u001b[0m \u001b[38;5;28;43mself\u001b[39;49m\u001b[38;5;241;43m.\u001b[39;49m\u001b[43mboost\u001b[49m\u001b[43m(\u001b[49m\u001b[43mdtrain\u001b[49m\u001b[43m,\u001b[49m\u001b[43m \u001b[49m\u001b[43miteration\u001b[49m\u001b[38;5;241;43m=\u001b[39;49m\u001b[43miteration\u001b[49m\u001b[43m,\u001b[49m\u001b[43m \u001b[49m\u001b[43mgrad\u001b[49m\u001b[38;5;241;43m=\u001b[39;49m\u001b[43mgrad\u001b[49m\u001b[43m,\u001b[49m\u001b[43m \u001b[49m\u001b[43mhess\u001b[49m\u001b[38;5;241;43m=\u001b[39;49m\u001b[43mhess\u001b[49m\u001b[43m)\u001b[49m\n",
      "File \u001b[0;32m~/Documents/NTU Classes/.venv/lib/python3.10/site-packages/xgboost/core.py:2309\u001b[0m, in \u001b[0;36mBooster.boost\u001b[0;34m(self, dtrain, iteration, grad, hess)\u001b[0m\n\u001b[1;32m   2304\u001b[0m         \u001b[38;5;28;01mraise\u001b[39;00m \u001b[38;5;167;01mTypeError\u001b[39;00m(msg)\n\u001b[1;32m   2306\u001b[0m     \u001b[38;5;28;01mreturn\u001b[39;00m interface\n\u001b[1;32m   2308\u001b[0m _check_call(\n\u001b[0;32m-> 2309\u001b[0m     \u001b[43m_LIB\u001b[49m\u001b[38;5;241;43m.\u001b[39;49m\u001b[43mXGBoosterTrainOneIter\u001b[49m\u001b[43m(\u001b[49m\n\u001b[1;32m   2310\u001b[0m \u001b[43m        \u001b[49m\u001b[38;5;28;43mself\u001b[39;49m\u001b[38;5;241;43m.\u001b[39;49m\u001b[43mhandle\u001b[49m\u001b[43m,\u001b[49m\n\u001b[1;32m   2311\u001b[0m \u001b[43m        \u001b[49m\u001b[43mdtrain\u001b[49m\u001b[38;5;241;43m.\u001b[39;49m\u001b[43mhandle\u001b[49m\u001b[43m,\u001b[49m\n\u001b[1;32m   2312\u001b[0m \u001b[43m        \u001b[49m\u001b[43miteration\u001b[49m\u001b[43m,\u001b[49m\n\u001b[1;32m   2313\u001b[0m \u001b[43m        \u001b[49m\u001b[43mgrad_arrinf\u001b[49m\u001b[43m(\u001b[49m\u001b[43mgrad\u001b[49m\u001b[43m)\u001b[49m\u001b[43m,\u001b[49m\n\u001b[1;32m   2314\u001b[0m \u001b[43m        \u001b[49m\u001b[43mgrad_arrinf\u001b[49m\u001b[43m(\u001b[49m\u001b[43mhess\u001b[49m\u001b[43m)\u001b[49m\u001b[43m,\u001b[49m\n\u001b[1;32m   2315\u001b[0m \u001b[43m    \u001b[49m\u001b[43m)\u001b[49m\n\u001b[1;32m   2316\u001b[0m )\n",
      "\u001b[0;31mKeyboardInterrupt\u001b[0m: "
     ]
    }
   ],
   "source": [
    "\n",
    "# Define Parameters for REGRESSION\n",
    "params = {\n",
    "    # --- TASK SPECIFICATION ---\n",
    "    'eval_metric': 'rmse',            # Evaluation metric: rmse, mae, rmsle\n",
    "    'seed':5,\n",
    "    \n",
    "    # --- CORE BOOSTING PARAMETERS ---\n",
    "    'booster': 'gbtree',              # Type of model: gbtree, gblinear, dart\n",
    "    # 'eta': 0.0001,                       # Learning rate (shrinkage)\n",
    "    'gamma': 0.00001,                       # Minimum loss reduction to make a split\n",
    "    'max_depth': 9,                   # Maximum tree depth\n",
    "    'min_child_weight': .08,            # Minimum sum of instance weight needed in a child\n",
    "    'grow_policy': 'lossguide',\n",
    "    'max_bin': 1024,\n",
    "    \n",
    "    # --- SUBSAMPLING PARAMETERS ---\n",
    "    'subsample': 0.8,                 # of training instances to sample per tree\n",
    "    'colsample_bytree': 0.8,          # of features to sample per tree\n",
    "    'colsample_bylevel': 1,           # of features to sample per tree level\n",
    "    'colsample_bynode': 1,            # of features to sample per tree node\n",
    "    \n",
    "    # --- REGULARIZATION PARAMETERS ---\n",
    "    'reg_alpha': 0.1,                   # L1 regularization (LASSO)\n",
    "    'reg_lambda': 1,                  # L2 regularization (Ridge)\n",
    "    \n",
    "    # --- MISCELLANEOUS ---\n",
    "    'random_state': 42,               # Seed for reproducibility\n",
    "    'nthread': 8,                     # Number of parallel threads\n",
    "    'verbosity': 2                    # 0 (silent), 1 (warning), 2 (info), 3 (debug)\n",
    "}\n",
    "class GeometricLRSchedule:\n",
    "    def __init__(self, lr_start, lr_end, total_steps):\n",
    "        super().__init__()\n",
    "        self.lr_start = lr_start\n",
    "        self.lr_end = lr_end\n",
    "        self.total_steps = total_steps\n",
    "        # compute geometric ratio\n",
    "        self.r = (lr_end / lr_start) ** (1 / (total_steps - 1))\n",
    "\n",
    "    def __call__(self, step):\n",
    "        lr = max ( self.lr_start * (self.r ** step),  self.lr_end) # dont decrease below minimum\n",
    "        if step % 500==0: print(f\"LR at step: {step}: {lr}\")\n",
    "        return lr\n",
    "\n",
    "total_steps = 50000\n",
    "lr_schedule = GeometricLRSchedule(0.0005,0.00008,total_steps)\n",
    "model = xgb.train(\n",
    "    params,\n",
    "    dtrain,\n",
    "    num_boost_round=500000,\n",
    "    obj=capped_mse_obj_exact,\n",
    "    evals=[(dtrain, \"train\"), (dval, \"val\")],\n",
    "    early_stopping_rounds=500,\n",
    "    verbose_eval=100,\n",
    "    callbacks=[xgb.callback.LearningRateScheduler(lr_schedule)]\n",
    "\n",
    ")\n",
    "\n",
    "# Evaluate the model using regression metrics in validation \n",
    "val_pred = model.predict(dval)\n",
    "print(f'RMSE: {mean_squared_error(y_val, val_pred, squared=False)}')\n",
    "print(f'MAE: {mean_absolute_error(y_val, val_pred)}')\n",
    "print(f'R²: {r2_score(y_val, val_pred)}')\n",
    "\n"
   ]
  },
  {
   "cell_type": "code",
   "execution_count": null,
   "id": "5aea37cc",
   "metadata": {},
   "outputs": [],
   "source": [
    "# Evaluate on Test Set\n",
    "test_pred = model.predict(dtest)\n",
    "test_pred[test_pred >= CAP] = CAP\n",
    "test_pred[test_pred <= FLOOR] = FLOOR\n",
    "\n",
    "submission_df = pd.DataFrame(data={\"id\":test_data.index, \"MedHouseVal\":test_pred})\n",
    "submission_df.to_csv(\"regression-tabular-california-housing/xg_boost_submission.csv\", index=False)\n"
   ]
  },
  {
   "cell_type": "code",
   "execution_count": null,
   "id": "bf7019fe",
   "metadata": {},
   "outputs": [
    {
     "data": {
      "image/png": "[encoded data removed]",
      "text/plain": [
       "<Figure size 1200x800 with 1 Axes>"
      ]
     },
     "metadata": {},
     "output_type": "display_data"
    }
   ],
   "source": [
    "\"\"\" histogram the train_ground_truth, train_pred, and test_pred \"\"\"\n",
    "\n",
    "# relabel y_train and train_pred to include the entire training + validation set\n",
    "y_train = y\n",
    "dtrain  = xgb.DMatrix(X, label=y)\n",
    "train_pred = model.predict(dtrain)\n",
    "train_pred[train_pred>=CAP] = CAP \n",
    "train_pred[train_pred<=FLOOR] = FLOOR \n",
    "\n",
    "plt.figure(figsize=(12, 8))\n",
    "plt.hist(y_train, bins=100, alpha=0.5, label=\"Train Ground Truth\", density=True)\n",
    "plt.hist(train_pred, bins=100, alpha=0.5, label=\"Train Predictions\", density=True)\n",
    "plt.hist(test_pred, bins=100, alpha=0.5, label=\"Test Predictions\", density=True)\n",
    "plt.title(f\"Train vs Test Distribution: RegVal\")\n",
    "plt.xlabel(\"RegVal\")\n",
    "plt.ylabel(f\"RegVal Density\")\n",
    "plt.legend()\n",
    "plt.tight_layout()"
   ]
  },
  {
   "cell_type": "code",
   "execution_count": null,
   "id": "62d8fc54",
   "metadata": {},
   "outputs": [],
   "source": []
  }
 ],
 "metadata": {
  "kernelspec": {
   "display_name": ".venv",
   "language": "python",
   "name": "python3"
  },
  "language_info": {
   "codemirror_mode": {
    "name": "ipython",
    "version": 3
   },
   "file_extension": ".py",
   "mimetype": "text/x-python",
   "name": "python",
   "nbconvert_exporter": "python",
   "pygments_lexer": "ipython3",
   "version": "3.10.18"
  }
 },
 "nbformat": 4,
 "nbformat_minor": 5
}
