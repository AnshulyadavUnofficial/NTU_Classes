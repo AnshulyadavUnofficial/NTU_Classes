{
 "cells": [
  {
   "cell_type": "code",
   "execution_count": 2,
   "id": "c04e417c",
   "metadata": {},
   "outputs": [],
   "source": [
    "from sklearn.datasets import load_svmlight_file\n",
    "from sklearn.model_selection import KFold\n",
    "import sklearn.svm as svm\n",
    "from sklearn.metrics import accuracy_score\n",
    "from typing import NamedTuple, List, Tuple, Dict"
   ]
  },
  {
   "cell_type": "code",
   "execution_count": 3,
   "id": "bc610aab",
   "metadata": {},
   "outputs": [],
   "source": [
    "train_X, train_y = load_svmlight_file(\"./train.txt\")\n",
    "test_X, test_y = load_svmlight_file(\"./test.txt\", n_features=123)"
   ]
  },
  {
   "cell_type": "code",
   "execution_count": 4,
   "id": "413c4cc4",
   "metadata": {},
   "outputs": [],
   "source": [
    "k_fold = 3\n",
    "\n",
    "class Fold(NamedTuple):\n",
    "    train_X: any\n",
    "    train_y: any\n",
    "    val_X: any\n",
    "    val_y: any\n",
    "\n",
    "folds:List[Fold] = []\n",
    "kf = KFold(n_splits=k_fold, shuffle=True, random_state=42)\n",
    "\n",
    "for train_idx, valid_idx in kf.split(train_X, train_y):\n",
    "    folds.append(\n",
    "        Fold(\n",
    "            train_X = train_X[train_idx], \n",
    "            train_y = train_y[train_idx], \n",
    "            val_X   = train_X[valid_idx], \n",
    "            val_y   = train_y[valid_idx]\n",
    "        )\n",
    "    )"
   ]
  },
  {
   "cell_type": "code",
   "execution_count": 4,
   "id": "b7e0d4d9",
   "metadata": {},
   "outputs": [
    {
     "name": "stdout",
     "output_type": "stream",
     "text": [
      "Running Model for C = 0.01\n",
      "Running Model for C = 0.05\n",
      "Running Model for C = 0.1\n",
      "Running Model for C = 0.5\n",
      "Running Model for C = 1.0\n",
      "C=0.01 | Train Acc: 0.8454 | Val Acc: 0.8448\n",
      "C=0.05 | Train Acc: 0.8481 | Val Acc: 0.8472\n",
      "C=0.10 | Train Acc: 0.8491 | Val Acc: 0.8479\n",
      "C=0.50 | Train Acc: 0.8498 | Val Acc: 0.8479\n",
      "C=1.00 | Train Acc: 0.8499 | Val Acc: 0.8479\n"
     ]
    }
   ],
   "source": [
    "C_LIST = [0.01, 0.05, 0.1, 0.5, 1.0]\n",
    "\n",
    "validation_acc = {C: [] for C in C_LIST}\n",
    "train_acc = {C: [] for C in C_LIST}\n",
    "\n",
    "for C in C_LIST:\n",
    "    print(f\"Running Model for C = {C}\")\n",
    "    \n",
    "    for num_fold in range(k_fold):\n",
    "        train_X = folds[num_fold].train_X\n",
    "        train_y = folds[num_fold].train_y\n",
    "        val_X   = folds[num_fold].val_X\n",
    "        val_y   = folds[num_fold].val_y\n",
    "\n",
    "        # new model each fold\n",
    "        model = svm.SVC(C=C, kernel=\"linear\")\n",
    "        model.fit(train_X, train_y)\n",
    "\n",
    "        # Train accuracy\n",
    "        train_preds = model.predict(train_X)\n",
    "        train_acc[C].append(accuracy_score(train_y, train_preds))\n",
    "\n",
    "        # Validation accuracy\n",
    "        val_preds = model.predict(val_X)\n",
    "        validation_acc[C].append(accuracy_score(val_y, val_preds))\n",
    "\n",
    "# Print average results\n",
    "for C in C_LIST:\n",
    "    print(f\"C={C:.2f} | \"\n",
    "          f\"Train Acc: {sum(train_acc[C]) / len(train_acc[C]):.4f} | \"\n",
    "          f\"Val Acc: {sum(validation_acc[C]) / len(validation_acc[C]):.4f}\")\n"
   ]
  },
  {
   "cell_type": "code",
   "execution_count": 5,
   "id": "e353ab6d",
   "metadata": {},
   "outputs": [
    {
     "name": "stdout",
     "output_type": "stream",
     "text": [
      "Running RBF Model for C=0.01, gamma=0.01\n",
      "Running RBF Model for C=0.01, gamma=0.05\n",
      "Running RBF Model for C=0.01, gamma=0.1\n",
      "Running RBF Model for C=0.01, gamma=0.5\n",
      "Running RBF Model for C=0.01, gamma=1.0\n",
      "Running RBF Model for C=0.05, gamma=0.01\n",
      "Running RBF Model for C=0.05, gamma=0.05\n",
      "Running RBF Model for C=0.05, gamma=0.1\n",
      "Running RBF Model for C=0.05, gamma=0.5\n",
      "Running RBF Model for C=0.05, gamma=1.0\n",
      "Running RBF Model for C=0.1, gamma=0.01\n",
      "Running RBF Model for C=0.1, gamma=0.05\n",
      "Running RBF Model for C=0.1, gamma=0.1\n",
      "Running RBF Model for C=0.1, gamma=0.5\n",
      "Running RBF Model for C=0.1, gamma=1.0\n",
      "Running RBF Model for C=0.5, gamma=0.01\n",
      "Running RBF Model for C=0.5, gamma=0.05\n",
      "Running RBF Model for C=0.5, gamma=0.1\n",
      "Running RBF Model for C=0.5, gamma=0.5\n",
      "Running RBF Model for C=0.5, gamma=1.0\n",
      "Running RBF Model for C=1.0, gamma=0.01\n",
      "Running RBF Model for C=1.0, gamma=0.05\n",
      "Running RBF Model for C=1.0, gamma=0.1\n",
      "Running RBF Model for C=1.0, gamma=0.5\n",
      "Running RBF Model for C=1.0, gamma=1.0\n",
      "C=0.01, gamma=0.01 | Train Acc: 0.7592 | Val Acc: 0.7592\n",
      "C=0.01, gamma=0.05 | Train Acc: 0.8201 | Val Acc: 0.8201\n",
      "C=0.01, gamma=0.10 | Train Acc: 0.8204 | Val Acc: 0.8195\n",
      "C=0.01, gamma=0.50 | Train Acc: 0.7592 | Val Acc: 0.7592\n",
      "C=0.01, gamma=1.00 | Train Acc: 0.7592 | Val Acc: 0.7592\n",
      "C=0.05, gamma=0.01 | Train Acc: 0.8316 | Val Acc: 0.8310\n",
      "C=0.05, gamma=0.05 | Train Acc: 0.8369 | Val Acc: 0.8356\n",
      "C=0.05, gamma=0.10 | Train Acc: 0.8359 | Val Acc: 0.8342\n",
      "C=0.05, gamma=0.50 | Train Acc: 0.7945 | Val Acc: 0.7889\n",
      "C=0.05, gamma=1.00 | Train Acc: 0.7592 | Val Acc: 0.7592\n",
      "C=0.10, gamma=0.01 | Train Acc: 0.8385 | Val Acc: 0.8379\n",
      "C=0.10, gamma=0.05 | Train Acc: 0.8416 | Val Acc: 0.8397\n",
      "C=0.10, gamma=0.10 | Train Acc: 0.8421 | Val Acc: 0.8390\n",
      "C=0.10, gamma=0.50 | Train Acc: 0.8136 | Val Acc: 0.8055\n",
      "C=0.10, gamma=1.00 | Train Acc: 0.7640 | Val Acc: 0.7619\n",
      "C=0.50, gamma=0.01 | Train Acc: 0.8445 | Val Acc: 0.8436\n",
      "C=0.50, gamma=0.05 | Train Acc: 0.8515 | Val Acc: 0.8448\n",
      "C=0.50, gamma=0.10 | Train Acc: 0.8586 | Val Acc: 0.8464\n",
      "C=0.50, gamma=0.50 | Train Acc: 0.8868 | Val Acc: 0.8328\n",
      "C=0.50, gamma=1.00 | Train Acc: 0.8380 | Val Acc: 0.7889\n",
      "C=1.00, gamma=0.01 | Train Acc: 0.8471 | Val Acc: 0.8451\n",
      "C=1.00, gamma=0.05 | Train Acc: 0.8566 | Val Acc: 0.8470\n",
      "C=1.00, gamma=0.10 | Train Acc: 0.8669 | Val Acc: 0.8472\n",
      "C=1.00, gamma=0.50 | Train Acc: 0.9361 | Val Acc: 0.8347\n",
      "C=1.00, gamma=1.00 | Train Acc: 0.9613 | Val Acc: 0.7975\n"
     ]
    }
   ],
   "source": [
    "C_LIST = [0.01, 0.05, 0.1, 0.5, 1.0]\n",
    "g_LIST = [0.01, 0.05, 0.1, 0.5, 1.0]\n",
    "k_fold = 3\n",
    "\n",
    "# Store results for each (C,gamma) pair\n",
    "validation_acc_rbf = {(C, g): [] for C in C_LIST for g in g_LIST}\n",
    "train_acc_rbf = {(C, g): [] for C in C_LIST for g in g_LIST}\n",
    "\n",
    "for C in C_LIST:\n",
    "    for g in g_LIST:\n",
    "        print(f\"Running RBF Model for C={C}, gamma={g}\")\n",
    "        \n",
    "        for num_fold in range(k_fold):\n",
    "            train_X = folds[num_fold].train_X\n",
    "            train_y = folds[num_fold].train_y\n",
    "            val_X   = folds[num_fold].val_X\n",
    "            val_y   = folds[num_fold].val_y\n",
    "\n",
    "            # New model per fold\n",
    "            model = svm.SVC(C=C, kernel=\"rbf\", gamma=g)\n",
    "            model.fit(train_X, train_y)\n",
    "\n",
    "            # Train accuracy\n",
    "            train_preds = model.predict(train_X)\n",
    "            train_acc_rbf[(C, g)].append(accuracy_score(train_y, train_preds))\n",
    "\n",
    "            # Validation accuracy\n",
    "            val_preds = model.predict(val_X)\n",
    "            validation_acc_rbf[(C, g)].append(accuracy_score(val_y, val_preds))\n",
    "\n",
    "# Print average results\n",
    "for C in C_LIST:\n",
    "    for g in g_LIST:\n",
    "        avg_train = sum(train_acc_rbf[(C, g)]) / k_fold\n",
    "        avg_val   = sum(validation_acc_rbf[(C, g)]) / k_fold\n",
    "        print(f\"C={C:.2f}, gamma={g:.2f} | Train Acc: {avg_train:.4f} | Val Acc: {avg_val:.4f}\")\n"
   ]
  },
  {
   "cell_type": "code",
   "execution_count": null,
   "id": "156a40d3",
   "metadata": {},
   "outputs": [
    {
     "name": "stdout",
     "output_type": "stream",
     "text": [
      "Test Accuracy : 0.8496\n",
      "Train Accuracy : 0.8500\n"
     ]
    }
   ],
   "source": [
    "\"\"\" Best SVC linear \"\"\"\n",
    "\n",
    "# Training on the entire training set and predicting on test\n",
    "train_X, train_y = load_svmlight_file(\"./train.txt\")\n",
    "model = svm.SVC(C = 1.0 , kernel=\"linear\")\n",
    "model.fit(train_X, train_y)\n",
    "\n",
    "# Test predictions\n",
    "test_preds = model.predict(test_X)\n",
    "test_accuracy = accuracy_score(test_y, test_preds)\n",
    "\n",
    "print(f\"Test Accuracy : {test_accuracy:.4f}\")\n",
    "\n",
    "\n",
    "# Train predictions\n",
    "train_preds = model.predict(train_X)\n",
    "train_accuracy = accuracy_score(train_y, train_preds)\n",
    "\n",
    "print(f\"Train Accuracy : {train_accuracy:.4f}\")"
   ]
  },
  {
   "cell_type": "code",
   "execution_count": null,
   "id": "e271f3ab",
   "metadata": {},
   "outputs": [],
   "source": []
  }
 ],
 "metadata": {
  "kernelspec": {
   "display_name": ".venv",
   "language": "python",
   "name": "python3"
  },
  "language_info": {
   "codemirror_mode": {
    "name": "ipython",
    "version": 3
   },
   "file_extension": ".py",
   "mimetype": "text/x-python",
   "name": "python",
   "nbconvert_exporter": "python",
   "pygments_lexer": "ipython3",
   "version": "3.10.18"
  }
 },
 "nbformat": 4,
 "nbformat_minor": 5
}
