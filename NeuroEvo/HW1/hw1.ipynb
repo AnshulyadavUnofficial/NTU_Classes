{
 "cells": [
  {
   "cell_type": "code",
   "execution_count": 1,
   "id": "2dd4c783",
   "metadata": {},
   "outputs": [],
   "source": [
    "import numpy as np\n",
    "import pandas as pd\n",
    "from pprint import pprint\n",
    "import matplotlib.pyplot as plt\n",
    "np.set_printoptions(linewidth=200, precision=5)"
   ]
  },
  {
   "cell_type": "code",
   "execution_count": 2,
   "id": "6dd0d83b",
   "metadata": {},
   "outputs": [],
   "source": [
    "file_name = \"iris_data.txt\"\n",
    "df = pd.read_csv(file_name, sep=\"\\t\", header=0)\n",
    "num_data_points = 150\n",
    "num_bins = 10\n",
    "num_classes = 3\n",
    "attributes = [\"PW\", \"PL\", \"SW\",\"SL\"]"
   ]
  },
  {
   "cell_type": "code",
   "execution_count": 3,
   "id": "4760df43",
   "metadata": {},
   "outputs": [
    {
     "name": "stdout",
     "output_type": "stream",
     "text": [
      "PW joint Prob Distribution:\n",
      "[[0.24667 0.08667 0.      0.      0.      0.      0.      0.      0.      0.     ]\n",
      " [0.      0.      0.      0.02    0.05333 0.16667 0.09333 0.      0.      0.     ]\n",
      " [0.      0.      0.      0.      0.      0.00667 0.1     0.12    0.07333 0.03333]]\n",
      "\n",
      "\n",
      "PL joint Prob Distribution:\n",
      "[[0.27333 0.05333 0.00667 0.      0.      0.      0.      0.      0.      0.     ]\n",
      " [0.      0.      0.      0.04667 0.05333 0.2     0.02667 0.00667 0.      0.     ]\n",
      " [0.      0.      0.      0.      0.      0.02    0.01333 0.14667 0.06    0.09333]]\n",
      "\n",
      "\n",
      "SW joint Prob Distribution:\n",
      "[[0.06    0.12667 0.08    0.06    0.00667 0.      0.      0.      0.      0.     ]\n",
      " [0.      0.02    0.01333 0.10667 0.06    0.07333 0.04667 0.01333 0.      0.     ]\n",
      " [0.      0.00667 0.      0.01333 0.04    0.1     0.07333 0.02667 0.03333 0.04   ]]\n",
      "\n",
      "\n",
      "SL joint Prob Distribution:\n",
      "[[0.      0.00667 0.      0.00667 0.06667 0.10667 0.06    0.06    0.01333 0.01333]\n",
      " [0.02    0.04    0.08    0.08667 0.07333 0.03333 0.      0.      0.      0.     ]\n",
      " [0.00667 0.      0.06667 0.06667 0.10667 0.06667 0.00667 0.01333 0.      0.     ]]\n",
      "\n",
      "\n"
     ]
    }
   ],
   "source": [
    "\"\"\" Part 1: calculate all joint prob dists \"\"\"\n",
    "attribute_delta = {a: (df[a].max() - df[a].min())/num_bins for a in attributes}\n",
    "attribute_bins = {a:[ ( df[a].min()+(i-1)*attribute_delta[a] , df[a].min()+(i)*attribute_delta[a] )\n",
    "                    for i in range(1, num_bins +1)] for a in attributes}\n",
    "joint_prob_dists = {a:np.full( shape=(num_classes, num_bins), fill_value= 0) for a in attributes}\n",
    "\n",
    "for a in attributes:\n",
    "    for i in range(num_data_points):\n",
    "        att_val = df.loc[i,a]\n",
    "        class_label = df.loc[i,'FlowerClass']\n",
    "        \n",
    "        for (col_ind, bin) in enumerate(attribute_bins[a]):\n",
    "            min_val, max_val = bin\n",
    "            if min_val <= att_val < max_val: \n",
    "                row_ind = int(class_label) - 1\n",
    "                joint_prob_dists[a][row_ind][col_ind] += 1\n",
    "            if col_ind + 1 == num_bins: # special case for bast bin\n",
    "                if att_val == max_val:\n",
    "                    row_ind = int(class_label) - 1\n",
    "                    joint_prob_dists[a][row_ind][col_ind] += 1\n",
    "                    \n",
    "    joint_prob_dists[a] = joint_prob_dists[a]/num_data_points\n",
    "    \n",
    "    \n",
    "for k,v in joint_prob_dists.items():\n",
    "    print(f\"{k} joint Prob Distribution:\\n{v}\\n\\n\")"
   ]
  },
  {
   "cell_type": "code",
   "execution_count": 4,
   "id": "5ebe79c4",
   "metadata": {},
   "outputs": [],
   "source": [
    "\"\"\" Working with SW since my number is 5 \"\"\"\n",
    "sw_joint_prob_dist = joint_prob_dists['SW']\n",
    "sw_bins = attribute_bins[\"SW\"]\n",
    "# print(sw_joint_prob_dist)\n"
   ]
  },
  {
   "cell_type": "code",
   "execution_count": 5,
   "id": "ba8008b8",
   "metadata": {},
   "outputs": [
    {
     "name": "stdout",
     "output_type": "stream",
     "text": [
      "P(C_1) = [0.33333]\n",
      "P(C_2) = [0.33333]\n",
      "P(C_3) = [0.33333]\n"
     ]
    }
   ],
   "source": [
    "\"\"\" Class a priori probs \"\"\"\n",
    "# sum across all bins (columns, axis = 1)\n",
    "class_a_priori_probs = np.sum(sw_joint_prob_dist, axis=1) \n",
    "class_a_priori_probs = class_a_priori_probs.reshape(-1, 1)\n",
    "print(f\"P(C_1) = {class_a_priori_probs[0]}\")\n",
    "print(f\"P(C_2) = {class_a_priori_probs[1]}\")\n",
    "print(f\"P(C_3) = {class_a_priori_probs[2]}\")"
   ]
  },
  {
   "cell_type": "code",
   "execution_count": 6,
   "id": "5a31f3b2",
   "metadata": {},
   "outputs": [
    {
     "name": "stdout",
     "output_type": "stream",
     "text": [
      "P(r_i/C_1): [0.18 0.38 0.24 0.18 0.02 0.   0.   0.   0.   0.  ]\n",
      "P(r_i/C_2): [0.   0.06 0.04 0.32 0.18 0.22 0.14 0.04 0.   0.  ]\n",
      "P(r_i/C_3): [0.   0.02 0.   0.04 0.12 0.3  0.22 0.08 0.1  0.12]\n"
     ]
    }
   ],
   "source": [
    "\"\"\" Conditional probs \"\"\"\n",
    "conditional_probs = sw_joint_prob_dist/class_a_priori_probs\n",
    "print(f\"P(r_i/C_1): {conditional_probs[0]}\")\n",
    "print(f\"P(r_i/C_2): {conditional_probs[1]}\")\n",
    "print(f\"P(r_i/C_3): {conditional_probs[2]}\")"
   ]
  },
  {
   "cell_type": "code",
   "execution_count": 7,
   "id": "95f0b034",
   "metadata": {},
   "outputs": [
    {
     "name": "stdout",
     "output_type": "stream",
     "text": [
      "Posterior probs for even bins.\n",
      "P(C_i/r_2): [0.82609 0.13043 0.04348]\n",
      "P(C_i/r_4): [0.33333 0.59259 0.07407]\n",
      "P(C_i/r_6): [0.      0.42308 0.57692]\n",
      "P(C_i/r_8): [0.      0.33333 0.66667]\n",
      "P(C_i/r_10): [0. 0. 1.]\n"
     ]
    }
   ],
   "source": [
    "\"\"\" Posterior probs for even bins \"\"\"\n",
    "bin_probs = np.sum(sw_joint_prob_dist, axis = 0)\n",
    "posterior_probs = sw_joint_prob_dist/bin_probs\n",
    "print(\"Posterior probs for even bins.\")\n",
    "print(f\"P(C_i/r_2): {posterior_probs[:,1]}\")\n",
    "print(f\"P(C_i/r_4): {posterior_probs[:,3]}\")\n",
    "print(f\"P(C_i/r_6): {posterior_probs[:,5]}\")\n",
    "print(f\"P(C_i/r_8): {posterior_probs[:,7]}\")\n",
    "print(f\"P(C_i/r_10): {posterior_probs[:,9]}\")"
   ]
  },
  {
   "cell_type": "code",
   "execution_count": 8,
   "id": "66e60f7a",
   "metadata": {},
   "outputs": [
    {
     "name": "stdout",
     "output_type": "stream",
     "text": [
      "Computed using bayes formula\n",
      "P(C_i/r_2): [0.82609 0.13043 0.04348]\n",
      "P(C_i/r_4): [0.33333 0.59259 0.07407]\n",
      "P(C_i/r_6): [0.      0.42308 0.57692]\n",
      "P(C_i/r_8): [0.      0.33333 0.66667]\n",
      "P(C_i/r_10): [0. 0. 1.]\n",
      "These are the same as posterior probs computed directly.\n",
      "Therefore bayes formaul is verified.\n"
     ]
    }
   ],
   "source": [
    "\"\"\" Verifying bayes formula \"\"\"\n",
    "\n",
    "\"\"\"\" \n",
    "Theoretically: P(C_i, r_i) = P(C_i | r_i)*P(r_i) = P(r_i | C_i)* P(C_i)\n",
    "thereforeL P(C_i|r_i) = P(r_i|C_i)*P(C_i)/P(r_i)\n",
    "\n",
    "so for the even bins, I show the above result.\n",
    "\"\"\"\n",
    "\n",
    "posterior_probs_bayes = conditional_probs * class_a_priori_probs / bin_probs\n",
    "\n",
    "print(\"Computed using bayes formula\")\n",
    "print(f\"P(C_i/r_2): {posterior_probs_bayes[:,1]}\")\n",
    "print(f\"P(C_i/r_4): {posterior_probs_bayes[:,3]}\")\n",
    "print(f\"P(C_i/r_6): {posterior_probs_bayes[:,5]}\")\n",
    "print(f\"P(C_i/r_8): {posterior_probs_bayes[:,7]}\")\n",
    "print(f\"P(C_i/r_10): {posterior_probs_bayes[:,9]}\")\n",
    "\n",
    "print(\"These are the same as posterior probs computed directly.\")\n",
    "print(\"Therefore bayes formaul is verified.\")"
   ]
  },
  {
   "cell_type": "code",
   "execution_count": 9,
   "id": "952e0a68",
   "metadata": {},
   "outputs": [
    {
     "data": {
      "image/png": "[encoded data removed]",
      "text/plain": [
       "<Figure size 1000x700 with 1 Axes>"
      ]
     },
     "metadata": {},
     "output_type": "display_data"
    }
   ],
   "source": [
    "\"\"\" histogram \"\"\"\n",
    "sw_counts_distribution = sw_joint_prob_dist * num_data_points\n",
    "\n",
    "# width for grouped bars\n",
    "bar_width = 0.25\n",
    "x = np.arange(num_bins)\n",
    "\n",
    "fig = plt.figure(num = 1, figsize=(10,7))\n",
    "\n",
    "for i, c in enumerate(range(num_classes)):\n",
    "    plt.bar(x + i*bar_width, sw_counts_distribution[i], width=bar_width, label=f\"C={c}\")\n",
    "\n",
    "plt.xticks(x + bar_width, [f\"{sw_bins[i][0]:.1f} - {sw_bins[i][1]:.1f}\" \n",
    "                           for i in range(num_bins)], rotation = 20)\n",
    "plt.xlabel(\"Sepal Width [cm]\")\n",
    "plt.ylabel(\"Count\")\n",
    "plt.legend([\"C=1 [Setosa]\",\"C=2 [Virginica]\",\"C=3 [Versicolor]\"])\n",
    "plt.title(\"Histogram of Sepal Width (3 classes)\")\n",
    "plt.show()"
   ]
  },
  {
   "cell_type": "code",
   "execution_count": 10,
   "id": "5c8ec3a5",
   "metadata": {},
   "outputs": [
    {
     "name": "stdout",
     "output_type": "stream",
     "text": [
      "SW joint probablity distribution:\n",
      "[[0.06    0.12667 0.08    0.06    0.00667 0.      0.      0.      0.      0.     ]\n",
      " [0.      0.02    0.01333 0.10667 0.06    0.07333 0.04667 0.01333 0.      0.     ]\n",
      " [0.      0.00667 0.      0.01333 0.04    0.1     0.07333 0.02667 0.03333 0.04   ]]\n"
     ]
    }
   ],
   "source": [
    "\"\"\" SW Joint Probablity Distribution \"\"\"\n",
    "print(\"SW joint probablity distribution:\")\n",
    "print(sw_joint_prob_dist)"
   ]
  },
  {
   "cell_type": "code",
   "execution_count": 11,
   "id": "aff1a1f1",
   "metadata": {},
   "outputs": [
    {
     "name": "stdout",
     "output_type": "stream",
     "text": [
      "P(r_i/C_1): [0.18 0.38 0.24 0.18 0.02 0.   0.   0.   0.   0.  ]\n",
      "P(r_i/C_2): [0.   0.06 0.04 0.32 0.18 0.22 0.14 0.04 0.   0.  ]\n",
      "P(r_i/C_3): [0.   0.02 0.   0.04 0.12 0.3  0.22 0.08 0.1  0.12]\n"
     ]
    }
   ],
   "source": [
    "\"\"\" P(r_i|C)\"\"\"\n",
    "print(f\"P(r_i/C_1): {conditional_probs[0]}\")\n",
    "print(f\"P(r_i/C_2): {conditional_probs[1]}\")\n",
    "print(f\"P(r_i/C_3): {conditional_probs[2]}\")"
   ]
  },
  {
   "cell_type": "code",
   "execution_count": 12,
   "id": "a5b4ee70",
   "metadata": {},
   "outputs": [
    {
     "name": "stdout",
     "output_type": "stream",
     "text": [
      "Posterior probs for even bins.\n",
      "P(C_i/r_1): [1. 0. 0.]\n",
      "P(C_i/r_3): [0.85714 0.14286 0.     ]\n",
      "P(C_i/r_5): [0.0625 0.5625 0.375 ]\n",
      "P(C_i/r_7): [0.      0.38889 0.61111]\n",
      "P(C_i/r_9): [0. 0. 1.]\n"
     ]
    }
   ],
   "source": [
    "\"\"\" Posterior probs for odd bins \"\"\"\n",
    "print(\"Posterior probs for even bins.\")\n",
    "print(f\"P(C_i/r_1): {posterior_probs[:,0]}\")\n",
    "print(f\"P(C_i/r_3): {posterior_probs[:,2]}\")\n",
    "print(f\"P(C_i/r_5): {posterior_probs[:,4]}\")\n",
    "print(f\"P(C_i/r_7): {posterior_probs[:,6]}\")\n",
    "print(f\"P(C_i/r_9): {posterior_probs[:,8]}\")"
   ]
  }
 ],
 "metadata": {
  "kernelspec": {
   "display_name": ".venv",
   "language": "python",
   "name": "python3"
  },
  "language_info": {
   "codemirror_mode": {
    "name": "ipython",
    "version": 3
   },
   "file_extension": ".py",
   "mimetype": "text/x-python",
   "name": "python",
   "nbconvert_exporter": "python",
   "pygments_lexer": "ipython3",
   "version": "3.10.15"
  }
 },
 "nbformat": 4,
 "nbformat_minor": 5
}
